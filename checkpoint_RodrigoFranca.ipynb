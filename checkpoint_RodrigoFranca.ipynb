{
 "cells": [
  {
   "cell_type": "markdown",
   "metadata": {
    "id": "s5JWGDg1Tt6s"
   },
   "source": [
    "INSPER - Big Data e Computação em Nuvem\n",
    "\n",
    "# Big Data e Computação em Nuvem - Checkpoint de aprendizagem\n",
    "\n",
    "**Instruções**:\n",
    "- Faça individualmente os exercícios abaixo para praticar conceitos visto nesta disciplina. \n",
    "- Quando pertinente, use os dados apontados no enunciado, já disponíveis na AWS. \n",
    "- A programação deve ser resolvida por meio de Spark.\n",
    "- Para perguntas teóricas/conceituais, responda utilizando células markdown.\n",
    "- Em caso de dúvidas, contate o Prof. Afonso. "
   ]
  },
  {
   "cell_type": "code",
   "execution_count": 1,
   "metadata": {
    "ExecuteTime": {
     "end_time": "2021-12-04T17:04:04.026505Z",
     "start_time": "2021-12-04T17:03:59.683551Z"
    },
    "id": "kN0zM7uDTt6y"
   },
   "outputs": [],
   "source": [
    "# Criar a sessao do Spark\n",
    "from pyspark.sql import SparkSession\n",
    "spark = SparkSession \\\n",
    "            .builder \\\n",
    "            .master(\"local[4]\") \\\n",
    "            .appName(\"nyc_<mudar-nome>\") \\\n",
    "            .config(\"spark.jars.packages\", \"org.apache.hadoop:hadoop-azure:3.3.4,com.microsoft.azure:azure-storage:8.6.6\") \\\n",
    "            .getOrCreate()"
   ]
  },
  {
   "cell_type": "code",
   "execution_count": 2,
   "metadata": {
    "id": "BtlPQBMUev9f"
   },
   "outputs": [],
   "source": [
    "STORAGE_ACCOUNT = 'dlspadseastusprod'\n",
    "CONTAINER = 'big-data-comp-nuvem'\n",
    "FOLDER = 'airline-delay'\n",
    "TOKEN = 'lSuH4ZI9BhOFEhCF/7ZQbrpPBIhgtLcPDfXjJ8lMxQZjaADW4p6tcmiZGDX9u05o7FqSE2t9d2RD+ASt0YFG8g=='\n",
    "\n",
    "spark.conf.set(\"fs.azure.account.key.\" + STORAGE_ACCOUNT + \".blob.core.windows.net\", TOKEN)"
   ]
  },
  {
   "cell_type": "markdown",
   "metadata": {
    "id": "tQ_ky0q2Tt6z"
   },
   "source": [
    "# Questões\n",
    "\n",
    "<font color=red>IMPORTANTE! Para efeitos de demonstração dos resultados, exiba as primeiras 10 linhas das suas RDDs ou Dataframes!</font>\n",
    "\n",
    "\n",
    "## Spark RDDs\n",
    "\n",
    "1. Responda com suas palavras: a) o que é uma RDD, b) qual sua importância em programação distribuída com Spark, e c) qual é a diferença entre uma _transformação_ e uma _ação_ sobre uma RDD?\n",
    "\n",
    "2. A partir da leitura do arquivo `2009.csv`, utilize RDDs para compor uma variável com a seguinte frase: \"OP_CARRIER_FL_NUM\" on \"FL_DATE\" was / was not cancelled. Você deverá olhar os dados pertinentes para ajustar a frase dependendo do dado. \n",
    "\n",
    "3. Ainda utilizando o arquivo `2009.csv`, crie uma RDD que filtre apenas os voos cancelados, gerando uma string do tipo \"Fight _NUMBER_ cancelled due to _CODE_ \". Lembre do dicionário: Reason for Cancellation of flight: A - Airline/Carrier; B - Weather; C - National Air System; D - Security"
   ]
  },
  {
   "cell_type": "code",
   "execution_count": 3,
   "metadata": {
    "id": "pfBLgWVPk1Xe",
    "outputId": "ea7abda6-e0df-4f07-fe30-6cef0b26e389"
   },
   "outputs": [
    {
     "data": {
      "text/plain": [
       "['FL_DATE,OP_CARRIER,OP_CARRIER_FL_NUM,ORIGIN,DEST,CRS_DEP_TIME,DEP_TIME,DEP_DELAY,TAXI_OUT,WHEELS_OFF,WHEELS_ON,TAXI_IN,CRS_ARR_TIME,ARR_TIME,ARR_DELAY,CANCELLED,CANCELLATION_CODE,DIVERTED,CRS_ELAPSED_TIME,ACTUAL_ELAPSED_TIME,AIR_TIME,DISTANCE,CARRIER_DELAY,WEATHER_DELAY,NAS_DELAY,SECURITY_DELAY,LATE_AIRCRAFT_DELAY,Unnamed: 27',\n",
       " '2009-01-01,XE,1204,DCA,EWR,1100,1058.0,-2.0,18.0,1116.0,1158.0,8.0,1202,1206.0,4.0,0.0,,0.0,62.0,68.0,42.0,199.0,,,,,,']"
      ]
     },
     "execution_count": 3,
     "metadata": {},
     "output_type": "execute_result"
    }
   ],
   "source": [
    "config = spark.sparkContext._jsc.hadoopConfiguration()\n",
    "config.set(\"fs.azure.account.key.\" + STORAGE_ACCOUNT + \".blob.core.windows.net\", TOKEN)\n",
    "sc = spark.sparkContext\n",
    "\n",
    "rdd1 = sc.textFile(\"wasbs://{}@{}.blob.core.windows.net/{}/2009.csv\".format(CONTAINER, STORAGE_ACCOUNT, FOLDER))\n",
    "rdd1.take(2)"
   ]
  },
  {
   "cell_type": "code",
   "execution_count": 4,
   "metadata": {
    "id": "RIbr2k5Ilf6Y",
    "tags": []
   },
   "outputs": [],
   "source": [
    "# 1.a) RDD significa \"Resilient Distributed Dataset\". É uma estrutura de dados fundamental do Spark que permite \n",
    "# armazenar e manipular dados distribuídos de forma eficiente. Os RDDs ajudam a garantir a tolerância a falhas. já \n",
    "# que se uma parte falhar, as outras partições replicadas ainda estão disponíveis para serem usadas.\n",
    "# Além disso, as RDDs suportam operações de transformação e ação, que permitem aos usuários realizar tarefas de \n",
    "# processamento de dados de forma distribuída e paralela. \n",
    "\n",
    "\n",
    "# b) A importância da RDD na programação distribuída com o Spark é que ela permite que o Spark execute operações em\n",
    "# grandes conjuntos de dados distribuídos em um cluster de máquinas de forma paralela e eficiente, reduzindo \n",
    "# significativamente o tempo de processamento. Além disso, as RDDs são resilientes, o que significa que elas podem \n",
    "# ser recriadas automaticamente em caso de falhas de uma ou mais máquinas do cluster, tornando o processamento \n",
    "# distribuído mais confiável.\n",
    "\n",
    "# c)A principal diferença entre uma transformação e uma ação em uma RDD é que uma transformação é uma operação que \n",
    "# cria uma nova RDD a partir de uma RDD existente, sem executar imediatamente a computação. \n",
    "# Em outras palavras, uma transformação é uma operação preguiçosa (lazy), que não executa a computação \n",
    "# imediatamente, mas sim quando uma ação é chamada. Já uma ação é uma operação que executa a computação em uma RDD \n",
    "# e retorna um resultado ou escreve o resultado em um sistema de armazenamento externo. \n",
    "# As ações não criam uma nova RDD, elas apenas executam as computações necessárias para obter um resultado final.\n"
   ]
  },
  {
   "cell_type": "code",
   "execution_count": 5,
   "metadata": {
    "tags": []
   },
   "outputs": [
    {
     "data": {
      "text/plain": [
       "['1204 on 2009-01-01 was not cancelled',\n",
       " '1206 on 2009-01-01 was not cancelled']"
      ]
     },
     "execution_count": 5,
     "metadata": {},
     "output_type": "execute_result"
    }
   ],
   "source": [
    "# 2. A partir da leitura do arquivo `2009.csv`, utilize RDDs para compor uma variável com a seguinte frase\n",
    "# : \"OP_CARRIER_FL_NUM\" on \"FL_DATE\" was / was not cancelled. \n",
    "# Você deverá olhar os dados pertinentes para ajustar a frase dependendo do dado. \n",
    "\n",
    "header = rdd1.first()\n",
    "\n",
    "rdd2 = rdd1.filter(lambda x: x != header)\n",
    "\n",
    "rdd3 = rdd2.map(lambda line: line.split(\",\"))\n",
    "\n",
    "rdd4 = rdd3.map(lambda x: x[2] + ' on ' + x[0] + (' was cancelled' if x[15] == '1' else ' was not cancelled'))\n",
    "\n",
    "rdd4.take(2)\n"
   ]
  },
  {
   "cell_type": "code",
   "execution_count": 6,
   "metadata": {},
   "outputs": [
    {
     "data": {
      "text/plain": [
       "[' Flight 7104 cancelled due to Airline/Carrier',\n",
       " ' Flight 7329 cancelled due to Airline/Carrier',\n",
       " ' Flight 7065 cancelled due to Airline/Carrier',\n",
       " ' Flight 2984 cancelled due to Weather',\n",
       " ' Flight 2823 cancelled due to Weather',\n",
       " ' Flight 7344 cancelled due to Airline/Carrier',\n",
       " ' Flight 2798 cancelled due to Weather',\n",
       " ' Flight 2939 cancelled due to Weather',\n",
       " ' Flight 4537 cancelled due to Airline/Carrier',\n",
       " ' Flight 4537 cancelled due to Airline/Carrier']"
      ]
     },
     "execution_count": 6,
     "metadata": {},
     "output_type": "execute_result"
    }
   ],
   "source": [
    "# 3. Ainda utilizando o arquivo `2009.csv`, crie uma RDD que filtre apenas os voos cancelados, \n",
    "# gerando uma string do tipo \"Fight _NUMBER_ cancelled due to _CODE_ \". \n",
    "# Lembre do dicionário: Reason for Cancellation of flight: A - Airline/Carrier; \n",
    "# B - Weather; C - National Air System; D - Security\n",
    "\n",
    "rdd9 = rdd3.filter(lambda x: x[16] in ['A', 'B', 'C', 'D'])\n",
    "\n",
    "\n",
    "\n",
    "rdd10 = rdd9.map(lambda x: ' Flight ' + x[2] + ' cancelled due to ' + ('Airline/Carrier' if x[16] == 'A' else\n",
    "                  'Weather' if x[16] == 'B' else\n",
    "                  'National Air System' if x[16] == 'C' else\n",
    "                  'Security' if x[16] == 'D' else ' unknown reason '))\n",
    "\n",
    "\n",
    "rdd10.take(10)"
   ]
  },
  {
   "cell_type": "markdown",
   "metadata": {
    "id": "_l2b1lRnTt63"
   },
   "source": [
    "## Spark Dataframe \n",
    "\n",
    "Utilizando o arquivo `2011.csv`, leia-o como um **Spark Dataframe** e faça:\n",
    "\n",
    "4. Estratifique a distância entre aeroportos em 3 níveis: próximos, médio, distantes (faça os cortes nos valores da distância a seu critério, para isso, explore a base!). A partir daí, responda: qual é a proporção em % de voos com atraso em cada faixa?\n",
    "\n",
    "5. Crie uma visualização com o número médio diário de vôos com origem do aeroporto BOS"
   ]
  },
  {
   "cell_type": "code",
   "execution_count": 7,
   "metadata": {
    "id": "mLdUxiomk1Xg"
   },
   "outputs": [],
   "source": [
    "df = spark.read.csv(\"wasbs://{}@{}.blob.core.windows.net/{}/2011.csv\".format(CONTAINER, STORAGE_ACCOUNT, FOLDER), header=True, inferSchema=True)"
   ]
  },
  {
   "cell_type": "code",
   "execution_count": 8,
   "metadata": {
    "id": "0pALsKhlljOR"
   },
   "outputs": [
    {
     "name": "stdout",
     "output_type": "stream",
     "text": [
      "+-------------------+----------+-----------------+------+----+------------+--------+---------+--------+----------+---------+-------+------------+--------+---------+---------+-----------------+--------+----------------+-------------------+--------+--------+-------------+-------------+---------+--------------+-------------------+-----------+\n",
      "|            FL_DATE|OP_CARRIER|OP_CARRIER_FL_NUM|ORIGIN|DEST|CRS_DEP_TIME|DEP_TIME|DEP_DELAY|TAXI_OUT|WHEELS_OFF|WHEELS_ON|TAXI_IN|CRS_ARR_TIME|ARR_TIME|ARR_DELAY|CANCELLED|CANCELLATION_CODE|DIVERTED|CRS_ELAPSED_TIME|ACTUAL_ELAPSED_TIME|AIR_TIME|DISTANCE|CARRIER_DELAY|WEATHER_DELAY|NAS_DELAY|SECURITY_DELAY|LATE_AIRCRAFT_DELAY|Unnamed: 27|\n",
      "+-------------------+----------+-----------------+------+----+------------+--------+---------+--------+----------+---------+-------+------------+--------+---------+---------+-----------------+--------+----------------+-------------------+--------+--------+-------------+-------------+---------+--------------+-------------------+-----------+\n",
      "|2011-01-01 00:00:00|        MQ|             4529|   BOS| JFK|        1830|  1823.0|     -7.0|    68.0|    1931.0|   2019.0|   30.0|        2000|  2049.0|     49.0|      0.0|             null|     0.0|            90.0|              146.0|    48.0|   187.0|          0.0|          0.0|     49.0|           0.0|                0.0|       null|\n",
      "|2011-01-01 00:00:00|        MQ|             4532|   BNA| DCA|        1100|  1052.0|     -8.0|    11.0|    1103.0|   1317.0|    3.0|        1335|  1320.0|    -15.0|      0.0|             null|     0.0|            95.0|               88.0|    74.0|   562.0|         null|         null|     null|          null|               null|       null|\n",
      "|2011-01-01 00:00:00|        MQ|             4532|   DCA| JFK|        1400|  1358.0|     -2.0|     9.0|    1407.0|   1507.0|    4.0|        1519|  1511.0|     -8.0|      0.0|             null|     0.0|            79.0|               73.0|    60.0|   213.0|         null|         null|     null|          null|               null|       null|\n",
      "|2011-01-01 00:00:00|        MQ|             4537|   RDU| JFK|        1710|  1706.0|     -4.0|    59.0|    1805.0|   1930.0|   15.0|        1855|  1945.0|     50.0|      0.0|             null|     0.0|           105.0|              159.0|    85.0|   426.0|          0.0|          0.0|     50.0|           0.0|                0.0|       null|\n",
      "|2011-01-01 00:00:00|        MQ|             4540|   CMH| LGA|        1340|  1340.0|      0.0|    14.0|    1354.0|   1511.0|    4.0|        1525|  1515.0|    -10.0|      0.0|             null|     0.0|           105.0|               95.0|    77.0|   478.0|         null|         null|     null|          null|               null|       null|\n",
      "|2011-01-01 00:00:00|        MQ|             4558|   LGA| CLE|         955|   951.0|     -4.0|    15.0|    1006.0|   1130.0|    5.0|        1150|  1135.0|    -15.0|      0.0|             null|     0.0|           115.0|              104.0|    84.0|   418.0|         null|         null|     null|          null|               null|       null|\n",
      "|2011-01-01 00:00:00|        MQ|             4559|   LGA| CMH|        1100|  1100.0|      0.0|    21.0|    1121.0|   1257.0|    8.0|        1305|  1305.0|      0.0|      0.0|             null|     0.0|           125.0|              125.0|    96.0|   478.0|         null|         null|     null|          null|               null|       null|\n",
      "|2011-01-01 00:00:00|        MQ|             4568|   BNA| DCA|        1625|  1659.0|     34.0|    36.0|    1735.0|   1942.0|    3.0|        1900|  1945.0|     45.0|      0.0|             null|     0.0|            95.0|              106.0|    67.0|   562.0|          0.0|          0.0|     11.0|           0.0|               34.0|       null|\n",
      "|2011-01-01 00:00:00|        MQ|             4572|   CLE| LGA|        1220|  1215.0|     -5.0|     9.0|    1224.0|   1331.0|    9.0|        1355|  1340.0|    -15.0|      0.0|             null|     0.0|            95.0|               85.0|    67.0|   418.0|         null|         null|     null|          null|               null|       null|\n",
      "|2011-01-01 00:00:00|        MQ|             4575|   CLT| LGA|        1615|  1608.0|     -7.0|    11.0|    1619.0|   1738.0|   18.0|        1810|  1756.0|    -14.0|      0.0|             null|     0.0|           115.0|              108.0|    79.0|   544.0|         null|         null|     null|          null|               null|       null|\n",
      "|2011-01-01 00:00:00|        MQ|             4576|   LGA| CLT|         625|   624.0|     -1.0|    17.0|     641.0|   1121.0|    5.0|         825|  1126.0|     null|      0.0|             null|     1.0|           120.0|               null|    null|   544.0|         null|         null|     null|          null|               null|       null|\n",
      "|2011-01-01 00:00:00|        MQ|             4578|   CLT| LGA|         855|   859.0|      4.0|    16.0|     915.0|   1030.0|    4.0|        1055|  1034.0|    -21.0|      0.0|             null|     0.0|           120.0|               95.0|    75.0|   544.0|         null|         null|     null|          null|               null|       null|\n",
      "|2011-01-01 00:00:00|        MQ|             4579|   LGA| CLT|        1700|  1655.0|     -5.0|    12.0|    1707.0|   1842.0|    8.0|        1910|  1850.0|    -20.0|      0.0|             null|     0.0|           130.0|              115.0|    95.0|   544.0|         null|         null|     null|          null|               null|       null|\n",
      "|2011-01-01 00:00:00|        MQ|             4583|   CLT| LGA|        1130|  1205.0|     35.0|    33.0|    1238.0|   1354.0|    8.0|        1330|  1402.0|     32.0|      0.0|             null|     0.0|           120.0|              117.0|    76.0|   544.0|          0.0|          4.0|      0.0|           0.0|               28.0|       null|\n",
      "|2011-01-01 00:00:00|        MQ|             4585|   LGA| CLT|        1340|  1332.0|     -8.0|    13.0|    1345.0|   1510.0|    8.0|        1545|  1518.0|    -27.0|      0.0|             null|     0.0|           125.0|              106.0|    85.0|   544.0|         null|         null|     null|          null|               null|       null|\n",
      "|2011-01-01 00:00:00|        MQ|             4586|   MSP| LGA|         845|   855.0|     10.0|    null|      null|     null|   null|        1225|    null|     null|      1.0|                A|     0.0|           160.0|               null|    null|  1020.0|         null|         null|     null|          null|               null|       null|\n",
      "|2011-01-01 00:00:00|        MQ|             4588|   LGA| MSP|        1425|  1449.0|     24.0|    11.0|    1500.0|   1633.0|    5.0|        1625|  1638.0|     13.0|      0.0|             null|     0.0|           180.0|              169.0|   153.0|  1020.0|         null|         null|     null|          null|               null|       null|\n",
      "|2011-01-01 00:00:00|        MQ|             4589|   MSP| LGA|        1655|  1723.0|     28.0|    14.0|    1737.0|   2044.0|    6.0|        2040|  2050.0|     10.0|      0.0|             null|     0.0|           165.0|              147.0|   127.0|  1020.0|         null|         null|     null|          null|               null|       null|\n",
      "|2011-01-01 00:00:00|        MQ|             4591|   LGA| MSP|        1100|  1109.0|      9.0|    13.0|    1122.0|   1250.0|   14.0|        1300|  1304.0|      4.0|      0.0|             null|     0.0|           180.0|              175.0|   148.0|  1020.0|         null|         null|     null|          null|               null|       null|\n",
      "|2011-01-01 00:00:00|        MQ|             4592|   MSP| LGA|        1330|  1353.0|     23.0|    18.0|    1411.0|   1718.0|    6.0|        1715|  1724.0|      9.0|      0.0|             null|     0.0|           165.0|              151.0|   127.0|  1020.0|         null|         null|     null|          null|               null|       null|\n",
      "+-------------------+----------+-----------------+------+----+------------+--------+---------+--------+----------+---------+-------+------------+--------+---------+---------+-----------------+--------+----------------+-------------------+--------+--------+-------------+-------------+---------+--------------+-------------------+-----------+\n",
      "only showing top 20 rows\n",
      "\n"
     ]
    }
   ],
   "source": [
    "df.show()"
   ]
  },
  {
   "cell_type": "code",
   "execution_count": 9,
   "metadata": {},
   "outputs": [
    {
     "name": "stdout",
     "output_type": "stream",
     "text": [
      "+---------+-----------------+-----------------+\n",
      "| DIST_CAT|   avg(ARR_DELAY)|   avg(DEP_DELAY)|\n",
      "+---------+-----------------+-----------------+\n",
      "| Próximos|5.719378524269165|7.840633971146565|\n",
      "|    Médio|4.922890708605792| 8.46082629586832|\n",
      "|Distantes|3.524494624299961| 9.08029525198058|\n",
      "+---------+-----------------+-----------------+\n",
      "\n"
     ]
    }
   ],
   "source": [
    "# 4. Estratifique a distância entre aeroportos em 3 níveis: próximos, médio, distantes (faça os cortes nos valores da distância a seu critério, \n",
    "# para isso, explore a base!). A partir daí, responda: qual é a proporção em % de voos com atraso em cada faixa?\n",
    "\n",
    "from pyspark.sql.functions import udf\n",
    "from pyspark.sql.types import StringType\n",
    "\n",
    "def classicar_distancia(x):\n",
    "    if x <= 342.0:\n",
    "        return \"Próximos\"\n",
    "    elif x > 342.0 and x < 991.0:\n",
    "        return \"Médio\"\n",
    "    else:\n",
    "        return \"Distantes\"\n",
    "    \n",
    "cudf = udf(classicar_distancia, StringType())\n",
    "\n",
    "dfcat = df.withColumn(\"DIST_CAT\", cudf(df[\"DISTANCE\"]))\n",
    "\n",
    "#dfcat.select('DEP_DELAY', 'ARR_DELAY', 'DISTANCE', 'DIST_CAT').show()\n",
    "\n",
    "\n",
    "dfcat.groupBy(\"DIST_CAT\").agg({\"ARR_DELAY\": \"mean\", \"DEP_DELAY\": \"mean\"}).show()\n"
   ]
  },
  {
   "cell_type": "code",
   "execution_count": 10,
   "metadata": {},
   "outputs": [
    {
     "name": "stdout",
     "output_type": "stream",
     "text": [
      "+-------------------+-----+\n",
      "|            FL_DATE|count|\n",
      "+-------------------+-----+\n",
      "|2011-01-01 00:00:00|  214|\n",
      "|2011-01-02 00:00:00|  262|\n",
      "|2011-01-03 00:00:00|  281|\n",
      "|2011-01-04 00:00:00|  304|\n",
      "|2011-01-05 00:00:00|  300|\n",
      "|2011-01-06 00:00:00|  317|\n",
      "|2011-01-07 00:00:00|  304|\n",
      "|2011-01-08 00:00:00|  204|\n",
      "|2011-01-09 00:00:00|  274|\n",
      "|2011-01-10 00:00:00|  286|\n",
      "|2011-01-11 00:00:00|  245|\n",
      "|2011-01-12 00:00:00|   22|\n",
      "|2011-01-13 00:00:00|  284|\n",
      "|2011-01-14 00:00:00|  320|\n",
      "|2011-01-15 00:00:00|  203|\n",
      "|2011-01-16 00:00:00|  270|\n",
      "|2011-01-17 00:00:00|  307|\n",
      "|2011-01-18 00:00:00|  250|\n",
      "|2011-01-19 00:00:00|  297|\n",
      "|2011-01-20 00:00:00|  313|\n",
      "+-------------------+-----+\n",
      "only showing top 20 rows\n",
      "\n",
      "O número médio diário de vôos com origem do aeroporto BOS: 317.4834834834835\n"
     ]
    }
   ],
   "source": [
    "# 5. Crie uma visualização com o número médio diário de vôos com origem do aeroporto BOS\n",
    "\n",
    "\n",
    "df10 = dfcat.filter(dfcat[\"ORIGIN\"] == \"BOS\")\n",
    "\n",
    "\n",
    "df10 = df10.filter(df10[\"CANCELLED\"] == 0).select(\"ORIGIN\", 'FL_DATE')\n",
    "\n",
    "df10_grouped = df10.groupBy(\"FL_DATE\").count().orderBy(\"FL_DATE\")\n",
    "\n",
    "df10_grouped.show()\n",
    "\n",
    "from pyspark.sql.functions import avg\n",
    "\n",
    "avg_flights = df10_grouped.agg(avg(\"count\")).collect()[0][0]\n",
    "\n",
    "print(\"O número médio diário de vôos com origem do aeroporto BOS:\", avg_flights)\n",
    "\n"
   ]
  },
  {
   "cell_type": "markdown",
   "metadata": {
    "id": "0za_O-x5Tt67"
   },
   "source": [
    "## Spark SQL \n",
    "\n",
    "Utilizando o arquivo `2011.csv`, responda utilizando **consultas SQL**: \n",
    "\n",
    "6. Quais são as operadoras mais pontuais, em média? Obs.: Considerar atraso total (saída e chegada)"
   ]
  },
  {
   "cell_type": "code",
   "execution_count": 11,
   "metadata": {},
   "outputs": [
    {
     "name": "stdout",
     "output_type": "stream",
     "text": [
      "Requirement already satisfied: duckdb in /opt/conda/lib/python3.10/site-packages (0.7.1)\n"
     ]
    }
   ],
   "source": [
    "!pip install duckdb"
   ]
  },
  {
   "cell_type": "code",
   "execution_count": 12,
   "metadata": {},
   "outputs": [],
   "source": [
    "import duckdb\n",
    "import pandas as pd\n",
    "con = duckdb.connect(database=':memory:', read_only=False)"
   ]
  },
  {
   "cell_type": "code",
   "execution_count": 13,
   "metadata": {},
   "outputs": [],
   "source": [
    "df20 = df.select('OP_CARRIER', 'DEP_DELAY', 'ARR_DELAY')\n"
   ]
  },
  {
   "cell_type": "code",
   "execution_count": 14,
   "metadata": {},
   "outputs": [],
   "source": [
    "pandas_df = df20.toPandas()\n"
   ]
  },
  {
   "cell_type": "code",
   "execution_count": 47,
   "metadata": {
    "id": "2fwKzShVlksu"
   },
   "outputs": [
    {
     "data": {
      "text/html": [
       "<div>\n",
       "<style scoped>\n",
       "    .dataframe tbody tr th:only-of-type {\n",
       "        vertical-align: middle;\n",
       "    }\n",
       "\n",
       "    .dataframe tbody tr th {\n",
       "        vertical-align: top;\n",
       "    }\n",
       "\n",
       "    .dataframe thead th {\n",
       "        text-align: right;\n",
       "    }\n",
       "</style>\n",
       "<table border=\"1\" class=\"dataframe\">\n",
       "  <thead>\n",
       "    <tr style=\"text-align: right;\">\n",
       "      <th></th>\n",
       "      <th>OP_CARRIER</th>\n",
       "      <th>AVG_TOTAL_DELAY</th>\n",
       "    </tr>\n",
       "  </thead>\n",
       "  <tbody>\n",
       "    <tr>\n",
       "      <th>0</th>\n",
       "      <td>AS</td>\n",
       "      <td>-1.713705</td>\n",
       "    </tr>\n",
       "    <tr>\n",
       "      <th>1</th>\n",
       "      <td>HA</td>\n",
       "      <td>0.047449</td>\n",
       "    </tr>\n",
       "    <tr>\n",
       "      <th>2</th>\n",
       "      <td>FL</td>\n",
       "      <td>6.433356</td>\n",
       "    </tr>\n",
       "    <tr>\n",
       "      <th>3</th>\n",
       "      <td>YV</td>\n",
       "      <td>6.928620</td>\n",
       "    </tr>\n",
       "    <tr>\n",
       "      <th>4</th>\n",
       "      <td>US</td>\n",
       "      <td>8.521306</td>\n",
       "    </tr>\n",
       "    <tr>\n",
       "      <th>5</th>\n",
       "      <td>DL</td>\n",
       "      <td>8.687339</td>\n",
       "    </tr>\n",
       "    <tr>\n",
       "      <th>6</th>\n",
       "      <td>UA</td>\n",
       "      <td>11.368903</td>\n",
       "    </tr>\n",
       "    <tr>\n",
       "      <th>7</th>\n",
       "      <td>OO</td>\n",
       "      <td>11.752063</td>\n",
       "    </tr>\n",
       "    <tr>\n",
       "      <th>8</th>\n",
       "      <td>MQ</td>\n",
       "      <td>14.014677</td>\n",
       "    </tr>\n",
       "    <tr>\n",
       "      <th>9</th>\n",
       "      <td>F9</td>\n",
       "      <td>14.390642</td>\n",
       "    </tr>\n",
       "  </tbody>\n",
       "</table>\n",
       "</div>"
      ],
      "text/plain": [
       "  OP_CARRIER  AVG_TOTAL_DELAY\n",
       "0         AS        -1.713705\n",
       "1         HA         0.047449\n",
       "2         FL         6.433356\n",
       "3         YV         6.928620\n",
       "4         US         8.521306\n",
       "5         DL         8.687339\n",
       "6         UA        11.368903\n",
       "7         OO        11.752063\n",
       "8         MQ        14.014677\n",
       "9         F9        14.390642"
      ]
     },
     "execution_count": 47,
     "metadata": {},
     "output_type": "execute_result"
    }
   ],
   "source": [
    "query = \"\"\" \n",
    "SELECT OP_CARRIER, AVG(DEP_DELAY + ARR_DELAY) AS AVG_TOTAL_DELAY\n",
    "FROM pandas_df\n",
    "GROUP BY OP_CARRIER\n",
    "ORDER BY AVG_TOTAL_DELAY ASC\n",
    "LIMIT 10\n",
    "\"\"\"\n",
    "con.execute(query).df()\n"
   ]
  },
  {
   "cell_type": "markdown",
   "metadata": {
    "id": "ng0rclx0ZHFq"
   },
   "source": [
    "7. Qual aeroporto mais tem atrasos por questões de clima?"
   ]
  },
  {
   "cell_type": "code",
   "execution_count": 19,
   "metadata": {
    "id": "-c1LJu6vllsO"
   },
   "outputs": [],
   "source": [
    "df21 = df.select('ORIGIN', 'DEST', 'WEATHER_DELAY')\n",
    "\n",
    "pandas_df1 = df21.toPandas()\n"
   ]
  },
  {
   "cell_type": "code",
   "execution_count": 50,
   "metadata": {},
   "outputs": [
    {
     "data": {
      "text/html": [
       "<div>\n",
       "<style scoped>\n",
       "    .dataframe tbody tr th:only-of-type {\n",
       "        vertical-align: middle;\n",
       "    }\n",
       "\n",
       "    .dataframe tbody tr th {\n",
       "        vertical-align: top;\n",
       "    }\n",
       "\n",
       "    .dataframe thead th {\n",
       "        text-align: right;\n",
       "    }\n",
       "</style>\n",
       "<table border=\"1\" class=\"dataframe\">\n",
       "  <thead>\n",
       "    <tr style=\"text-align: right;\">\n",
       "      <th></th>\n",
       "      <th>ORIGIN</th>\n",
       "      <th>total_delay</th>\n",
       "    </tr>\n",
       "  </thead>\n",
       "  <tbody>\n",
       "    <tr>\n",
       "      <th>0</th>\n",
       "      <td>ORD</td>\n",
       "      <td>286487.0</td>\n",
       "    </tr>\n",
       "    <tr>\n",
       "      <th>1</th>\n",
       "      <td>DFW</td>\n",
       "      <td>238270.0</td>\n",
       "    </tr>\n",
       "    <tr>\n",
       "      <th>2</th>\n",
       "      <td>ATL</td>\n",
       "      <td>197005.0</td>\n",
       "    </tr>\n",
       "    <tr>\n",
       "      <th>3</th>\n",
       "      <td>JFK</td>\n",
       "      <td>93227.0</td>\n",
       "    </tr>\n",
       "    <tr>\n",
       "      <th>4</th>\n",
       "      <td>DEN</td>\n",
       "      <td>84202.0</td>\n",
       "    </tr>\n",
       "    <tr>\n",
       "      <th>5</th>\n",
       "      <td>IAD</td>\n",
       "      <td>77772.0</td>\n",
       "    </tr>\n",
       "    <tr>\n",
       "      <th>6</th>\n",
       "      <td>EWR</td>\n",
       "      <td>73408.0</td>\n",
       "    </tr>\n",
       "    <tr>\n",
       "      <th>7</th>\n",
       "      <td>MIA</td>\n",
       "      <td>73170.0</td>\n",
       "    </tr>\n",
       "    <tr>\n",
       "      <th>8</th>\n",
       "      <td>CLT</td>\n",
       "      <td>69596.0</td>\n",
       "    </tr>\n",
       "    <tr>\n",
       "      <th>9</th>\n",
       "      <td>MCO</td>\n",
       "      <td>60946.0</td>\n",
       "    </tr>\n",
       "  </tbody>\n",
       "</table>\n",
       "</div>"
      ],
      "text/plain": [
       "  ORIGIN  total_delay\n",
       "0    ORD     286487.0\n",
       "1    DFW     238270.0\n",
       "2    ATL     197005.0\n",
       "3    JFK      93227.0\n",
       "4    DEN      84202.0\n",
       "5    IAD      77772.0\n",
       "6    EWR      73408.0\n",
       "7    MIA      73170.0\n",
       "8    CLT      69596.0\n",
       "9    MCO      60946.0"
      ]
     },
     "execution_count": 50,
     "metadata": {},
     "output_type": "execute_result"
    }
   ],
   "source": [
    "query = \"\"\" \n",
    "SELECT ORIGIN, SUM(WEATHER_DELAY) AS total_delay\n",
    "FROM pandas_df1\n",
    "WHERE WEATHER_DELAY IS NOT NULL\n",
    "GROUP BY ORIGIN\n",
    "ORDER BY total_delay DESC\n",
    "LIMIT 10\n",
    "\"\"\"\n",
    "con.execute(query).df()\n",
    "\n"
   ]
  },
  {
   "cell_type": "code",
   "execution_count": 53,
   "metadata": {},
   "outputs": [
    {
     "name": "stdout",
     "output_type": "stream",
     "text": [
      " O aeroporto com mais atrasos por questões de clima é o Chicago O'Hare International Airport (ORD)\n"
     ]
    }
   ],
   "source": [
    "print(\" O aeroporto com mais atrasos por questões de clima é o Chicago O'Hare International Airport (ORD)\")"
   ]
  }
 ],
 "metadata": {
  "colab": {
   "provenance": []
  },
  "hide_input": false,
  "kernelspec": {
   "display_name": "Python 3 (ipykernel)",
   "language": "python",
   "name": "python3"
  },
  "language_info": {
   "codemirror_mode": {
    "name": "ipython",
    "version": 3
   },
   "file_extension": ".py",
   "mimetype": "text/x-python",
   "name": "python",
   "nbconvert_exporter": "python",
   "pygments_lexer": "ipython3",
   "version": "3.10.8"
  },
  "toc": {
   "base_numbering": 1,
   "nav_menu": {},
   "number_sections": true,
   "sideBar": true,
   "skip_h1_title": false,
   "title_cell": "Table of Contents",
   "title_sidebar": "Contents",
   "toc_cell": false,
   "toc_position": {},
   "toc_section_display": true,
   "toc_window_display": false
  },
  "varInspector": {
   "cols": {
    "lenName": 16,
    "lenType": 16,
    "lenVar": 40
   },
   "kernels_config": {
    "python": {
     "delete_cmd_postfix": "",
     "delete_cmd_prefix": "del ",
     "library": "var_list.py",
     "varRefreshCmd": "print(var_dic_list())"
    },
    "r": {
     "delete_cmd_postfix": ") ",
     "delete_cmd_prefix": "rm(",
     "library": "var_list.r",
     "varRefreshCmd": "cat(var_dic_list()) "
    }
   },
   "types_to_exclude": [
    "module",
    "function",
    "builtin_function_or_method",
    "instance",
    "_Feature"
   ],
   "window_display": false
  }
 },
 "nbformat": 4,
 "nbformat_minor": 4
}
